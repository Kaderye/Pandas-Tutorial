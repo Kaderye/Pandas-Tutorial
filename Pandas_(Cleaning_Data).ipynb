{
  "nbformat": 4,
  "nbformat_minor": 0,
  "metadata": {
    "colab": {
      "provenance": [],
      "authorship_tag": "ABX9TyMeYP2JtoNNvGeVabW08uNX",
      "include_colab_link": true
    },
    "kernelspec": {
      "name": "python3",
      "display_name": "Python 3"
    },
    "language_info": {
      "name": "python"
    }
  },
  "cells": [
    {
      "cell_type": "markdown",
      "metadata": {
        "id": "view-in-github",
        "colab_type": "text"
      },
      "source": [
        "<a href=\"https://colab.research.google.com/github/Kaderye/Pandas-Tutorial/blob/main/Pandas_(Cleaning_Data).ipynb\" target=\"_parent\"><img src=\"https://colab.research.google.com/assets/colab-badge.svg\" alt=\"Open In Colab\"/></a>"
      ]
    },
    {
      "cell_type": "markdown",
      "source": [
        "# **Pandas (Cleaning Data)**"
      ],
      "metadata": {
        "id": "8fE7Y3ctOrB6"
      }
    },
    {
      "cell_type": "markdown",
      "source": [
        "**Data cleaning** means fixing bad data in data set.\n",
        "\n",
        "**Bad data could be:**\n",
        "\n",
        "Empty cells\n",
        "\n",
        "Data in wrong format\n",
        "\n",
        "Wrong data\n",
        "\n",
        "Duplicates\n"
      ],
      "metadata": {
        "id": "LEb9-IlrOxYg"
      }
    },
    {
      "cell_type": "code",
      "execution_count": 1,
      "metadata": {
        "colab": {
          "base_uri": "https://localhost:8080/"
        },
        "id": "7hgj38WFOYVm",
        "outputId": "249e7886-b223-4d8f-f566-46acc2a3dc65"
      },
      "outputs": [
        {
          "output_type": "stream",
          "name": "stdout",
          "text": [
            "Mounted at /content/drive\n"
          ]
        }
      ],
      "source": [
        "# drive mount\n",
        "from google.colab import drive\n",
        "drive.mount('/content/drive')"
      ]
    },
    {
      "cell_type": "code",
      "source": [
        "# load dataset\n",
        "import pandas as pd\n",
        "\n",
        "data=pd.read_csv('/content/drive/My Drive/Data Analyst/Pandas/badData.csv')"
      ],
      "metadata": {
        "id": "PKqxWtU0QOuZ"
      },
      "execution_count": 2,
      "outputs": []
    },
    {
      "cell_type": "code",
      "source": [
        "# print the dataset\n",
        "print(data)"
      ],
      "metadata": {
        "colab": {
          "base_uri": "https://localhost:8080/"
        },
        "id": "p_L5rPUwQfaw",
        "outputId": "173e8f53-e134-4b0b-9449-25f10ba1c868"
      },
      "execution_count": 3,
      "outputs": [
        {
          "output_type": "stream",
          "name": "stdout",
          "text": [
            "    Duration          Date  Pulse  Maxpulse  Calories\n",
            "0         60  '2020/12/01'    110       130     409.1\n",
            "1         60  '2020/12/02'    117       145     479.0\n",
            "2         60  '2020/12/03'    103       135     340.0\n",
            "3         45  '2020/12/04'    109       175     282.4\n",
            "4         45  '2020/12/05'    117       148     406.0\n",
            "5         60  '2020/12/06'    102       127     300.0\n",
            "6         60  '2020/12/07'    110       136     374.0\n",
            "7        450  '2020/12/08'    104       134     253.3\n",
            "8         30  '2020/12/09'    109       133     195.1\n",
            "9         60  '2020/12/10'     98       124     269.0\n",
            "10        60  '2020/12/11'    103       147     329.3\n",
            "11        60  '2020/12/12'    100       120     250.7\n",
            "12        60  '2020/12/12'    100       120     250.7\n",
            "13        60  '2020/12/13'    106       128     345.3\n",
            "14        60  '2020/12/14'    104       132     379.3\n",
            "15        60  '2020/12/15'     98       123     275.0\n",
            "16        60  '2020/12/16'     98       120     215.2\n",
            "17        60  '2020/12/17'    100       120     300.0\n",
            "18        45  '2020/12/18'     90       112       NaN\n",
            "19        60  '2020/12/19'    103       123     323.0\n",
            "20        45  '2020/12/20'     97       125     243.0\n",
            "21        60  '2020/12/21'    108       131     364.2\n",
            "22        45           NaN    100       119     282.0\n",
            "23        60  '2020/12/23'    130       101     300.0\n",
            "24        45  '2020/12/24'    105       132     246.0\n",
            "25        60  '2020/12/25'    102       126     334.5\n",
            "26        60      20201226    100       120     250.0\n",
            "27        60  '2020/12/27'     92       118     241.0\n",
            "28        60  '2020/12/28'    103       132       NaN\n",
            "29        60  '2020/12/29'    100       132     280.0\n",
            "30        60  '2020/12/30'    102       129     380.3\n",
            "31        60  '2020/12/31'     92       115     243.0\n"
          ]
        }
      ]
    },
    {
      "cell_type": "markdown",
      "source": [
        "**Empty Cells**\n",
        "\n",
        "---\n",
        "\n"
      ],
      "metadata": {
        "id": "CTvw6vmlQqmx"
      }
    },
    {
      "cell_type": "markdown",
      "source": [
        "Empty cells can potentially give you a wrong result when you analyze data.\n",
        "\n",
        "**dropna()** : return a new DataFrame that will not change the original data.\n",
        "\n",
        "**inplace=True** argument is used to change the original DataFrame."
      ],
      "metadata": {
        "id": "kIc5K31dQtPg"
      }
    },
    {
      "cell_type": "markdown",
      "source": [
        "**dropna()**"
      ],
      "metadata": {
        "id": "l0Pv2U2XU8_4"
      }
    },
    {
      "cell_type": "code",
      "source": [
        "# return a new DataFrame with no empty cells [Remove rows]\n",
        "import pandas as pd\n",
        "\n",
        "new_data=data.dropna()\n",
        "print(new_data)"
      ],
      "metadata": {
        "colab": {
          "base_uri": "https://localhost:8080/"
        },
        "id": "_QN3b7G2Q8x5",
        "outputId": "b3fba159-82c0-4099-bf2a-9418ab02ba95"
      },
      "execution_count": 5,
      "outputs": [
        {
          "output_type": "stream",
          "name": "stdout",
          "text": [
            "    Duration          Date  Pulse  Maxpulse  Calories\n",
            "0         60  '2020/12/01'    110       130     409.1\n",
            "1         60  '2020/12/02'    117       145     479.0\n",
            "2         60  '2020/12/03'    103       135     340.0\n",
            "3         45  '2020/12/04'    109       175     282.4\n",
            "4         45  '2020/12/05'    117       148     406.0\n",
            "5         60  '2020/12/06'    102       127     300.0\n",
            "6         60  '2020/12/07'    110       136     374.0\n",
            "7        450  '2020/12/08'    104       134     253.3\n",
            "8         30  '2020/12/09'    109       133     195.1\n",
            "9         60  '2020/12/10'     98       124     269.0\n",
            "10        60  '2020/12/11'    103       147     329.3\n",
            "11        60  '2020/12/12'    100       120     250.7\n",
            "12        60  '2020/12/12'    100       120     250.7\n",
            "13        60  '2020/12/13'    106       128     345.3\n",
            "14        60  '2020/12/14'    104       132     379.3\n",
            "15        60  '2020/12/15'     98       123     275.0\n",
            "16        60  '2020/12/16'     98       120     215.2\n",
            "17        60  '2020/12/17'    100       120     300.0\n",
            "19        60  '2020/12/19'    103       123     323.0\n",
            "20        45  '2020/12/20'     97       125     243.0\n",
            "21        60  '2020/12/21'    108       131     364.2\n",
            "23        60  '2020/12/23'    130       101     300.0\n",
            "24        45  '2020/12/24'    105       132     246.0\n",
            "25        60  '2020/12/25'    102       126     334.5\n",
            "26        60      20201226    100       120     250.0\n",
            "27        60  '2020/12/27'     92       118     241.0\n",
            "29        60  '2020/12/29'    100       132     280.0\n",
            "30        60  '2020/12/30'    102       129     380.3\n",
            "31        60  '2020/12/31'     92       115     243.0\n"
          ]
        }
      ]
    },
    {
      "cell_type": "markdown",
      "source": [
        "**Observation:** remove the row numbers: 18, 22 and 28"
      ],
      "metadata": {
        "id": "GemkWGd_RYPw"
      }
    },
    {
      "cell_type": "code",
      "source": [
        "# check the origina DataFrame\n",
        "print(data)"
      ],
      "metadata": {
        "colab": {
          "base_uri": "https://localhost:8080/"
        },
        "id": "zi3BzClORnxB",
        "outputId": "a6f95e10-aca6-4dcc-f5dd-178c40f51d86"
      },
      "execution_count": 6,
      "outputs": [
        {
          "output_type": "stream",
          "name": "stdout",
          "text": [
            "    Duration          Date  Pulse  Maxpulse  Calories\n",
            "0         60  '2020/12/01'    110       130     409.1\n",
            "1         60  '2020/12/02'    117       145     479.0\n",
            "2         60  '2020/12/03'    103       135     340.0\n",
            "3         45  '2020/12/04'    109       175     282.4\n",
            "4         45  '2020/12/05'    117       148     406.0\n",
            "5         60  '2020/12/06'    102       127     300.0\n",
            "6         60  '2020/12/07'    110       136     374.0\n",
            "7        450  '2020/12/08'    104       134     253.3\n",
            "8         30  '2020/12/09'    109       133     195.1\n",
            "9         60  '2020/12/10'     98       124     269.0\n",
            "10        60  '2020/12/11'    103       147     329.3\n",
            "11        60  '2020/12/12'    100       120     250.7\n",
            "12        60  '2020/12/12'    100       120     250.7\n",
            "13        60  '2020/12/13'    106       128     345.3\n",
            "14        60  '2020/12/14'    104       132     379.3\n",
            "15        60  '2020/12/15'     98       123     275.0\n",
            "16        60  '2020/12/16'     98       120     215.2\n",
            "17        60  '2020/12/17'    100       120     300.0\n",
            "18        45  '2020/12/18'     90       112       NaN\n",
            "19        60  '2020/12/19'    103       123     323.0\n",
            "20        45  '2020/12/20'     97       125     243.0\n",
            "21        60  '2020/12/21'    108       131     364.2\n",
            "22        45           NaN    100       119     282.0\n",
            "23        60  '2020/12/23'    130       101     300.0\n",
            "24        45  '2020/12/24'    105       132     246.0\n",
            "25        60  '2020/12/25'    102       126     334.5\n",
            "26        60      20201226    100       120     250.0\n",
            "27        60  '2020/12/27'     92       118     241.0\n",
            "28        60  '2020/12/28'    103       132       NaN\n",
            "29        60  '2020/12/29'    100       132     280.0\n",
            "30        60  '2020/12/30'    102       129     380.3\n",
            "31        60  '2020/12/31'     92       115     243.0\n"
          ]
        }
      ]
    },
    {
      "cell_type": "markdown",
      "source": [
        "**Observation:** actually not remove the row numbers: 18, 22 and 28"
      ],
      "metadata": {
        "id": "MP0a0BOTVPNV"
      }
    },
    {
      "cell_type": "markdown",
      "source": [
        "**inplace=True**"
      ],
      "metadata": {
        "id": "VqVbn-l1VAT5"
      }
    },
    {
      "cell_type": "code",
      "source": [
        "# remove all rows with null values\n",
        "import pandas as pd\n",
        "\n",
        "# data=pd.read_csv('/content/drive/My Drive/Data Analyst/Pandas/badData.csv')\n",
        "data.dropna(inplace=True)\n",
        "print(data)"
      ],
      "metadata": {
        "colab": {
          "base_uri": "https://localhost:8080/"
        },
        "id": "7J2s2ma_TmzI",
        "outputId": "e02d190a-435d-43c3-92c0-69cfc80a04e0"
      },
      "execution_count": 13,
      "outputs": [
        {
          "output_type": "stream",
          "name": "stdout",
          "text": [
            "    Duration          Date  Pulse  Maxpulse  Calories\n",
            "0         60  '2020/12/01'    110       130     409.1\n",
            "1         60  '2020/12/02'    117       145     479.0\n",
            "2         60  '2020/12/03'    103       135     340.0\n",
            "3         45  '2020/12/04'    109       175     282.4\n",
            "4         45  '2020/12/05'    117       148     406.0\n",
            "5         60  '2020/12/06'    102       127     300.0\n",
            "6         60  '2020/12/07'    110       136     374.0\n",
            "7        450  '2020/12/08'    104       134     253.3\n",
            "8         30  '2020/12/09'    109       133     195.1\n",
            "9         60  '2020/12/10'     98       124     269.0\n",
            "10        60  '2020/12/11'    103       147     329.3\n",
            "11        60  '2020/12/12'    100       120     250.7\n",
            "12        60  '2020/12/12'    100       120     250.7\n",
            "13        60  '2020/12/13'    106       128     345.3\n",
            "14        60  '2020/12/14'    104       132     379.3\n",
            "15        60  '2020/12/15'     98       123     275.0\n",
            "16        60  '2020/12/16'     98       120     215.2\n",
            "17        60  '2020/12/17'    100       120     300.0\n",
            "19        60  '2020/12/19'    103       123     323.0\n",
            "20        45  '2020/12/20'     97       125     243.0\n",
            "21        60  '2020/12/21'    108       131     364.2\n",
            "23        60  '2020/12/23'    130       101     300.0\n",
            "24        45  '2020/12/24'    105       132     246.0\n",
            "25        60  '2020/12/25'    102       126     334.5\n",
            "26        60      20201226    100       120     250.0\n",
            "27        60  '2020/12/27'     92       118     241.0\n",
            "29        60  '2020/12/29'    100       132     280.0\n",
            "30        60  '2020/12/30'    102       129     380.3\n",
            "31        60  '2020/12/31'     92       115     243.0\n"
          ]
        }
      ]
    },
    {
      "cell_type": "markdown",
      "source": [
        "**Observation:** remove the row numbers: 18, 22 and 28"
      ],
      "metadata": {
        "id": "80cY2OEyUu_x"
      }
    },
    {
      "cell_type": "code",
      "source": [
        "# check the original DataFrame\n",
        "print(data)"
      ],
      "metadata": {
        "colab": {
          "base_uri": "https://localhost:8080/"
        },
        "id": "EbDgZr0_UvrQ",
        "outputId": "a47c078e-9194-46ad-a7bd-c9a453bce954"
      },
      "execution_count": 15,
      "outputs": [
        {
          "output_type": "stream",
          "name": "stdout",
          "text": [
            "    Duration          Date  Pulse  Maxpulse  Calories\n",
            "0         60  '2020/12/01'    110       130     409.1\n",
            "1         60  '2020/12/02'    117       145     479.0\n",
            "2         60  '2020/12/03'    103       135     340.0\n",
            "3         45  '2020/12/04'    109       175     282.4\n",
            "4         45  '2020/12/05'    117       148     406.0\n",
            "5         60  '2020/12/06'    102       127     300.0\n",
            "6         60  '2020/12/07'    110       136     374.0\n",
            "7        450  '2020/12/08'    104       134     253.3\n",
            "8         30  '2020/12/09'    109       133     195.1\n",
            "9         60  '2020/12/10'     98       124     269.0\n",
            "10        60  '2020/12/11'    103       147     329.3\n",
            "11        60  '2020/12/12'    100       120     250.7\n",
            "12        60  '2020/12/12'    100       120     250.7\n",
            "13        60  '2020/12/13'    106       128     345.3\n",
            "14        60  '2020/12/14'    104       132     379.3\n",
            "15        60  '2020/12/15'     98       123     275.0\n",
            "16        60  '2020/12/16'     98       120     215.2\n",
            "17        60  '2020/12/17'    100       120     300.0\n",
            "19        60  '2020/12/19'    103       123     323.0\n",
            "20        45  '2020/12/20'     97       125     243.0\n",
            "21        60  '2020/12/21'    108       131     364.2\n",
            "23        60  '2020/12/23'    130       101     300.0\n",
            "24        45  '2020/12/24'    105       132     246.0\n",
            "25        60  '2020/12/25'    102       126     334.5\n",
            "26        60      20201226    100       120     250.0\n",
            "27        60  '2020/12/27'     92       118     241.0\n",
            "29        60  '2020/12/29'    100       132     280.0\n",
            "30        60  '2020/12/30'    102       129     380.3\n",
            "31        60  '2020/12/31'     92       115     243.0\n"
          ]
        }
      ]
    },
    {
      "cell_type": "markdown",
      "source": [
        "**Observation:** actually removed the row numbers: 18, 22 and 28"
      ],
      "metadata": {
        "id": "91L-Lx_YVkGb"
      }
    },
    {
      "cell_type": "markdown",
      "source": [
        "**Replace Empty Values**"
      ],
      "metadata": {
        "id": "XVkUPh05WJVI"
      }
    },
    {
      "cell_type": "markdown",
      "source": [
        "**fillna()** is used to replace empty cells with a value."
      ],
      "metadata": {
        "id": "8vToEC75WNNR"
      }
    },
    {
      "cell_type": "code",
      "source": [
        "# return null values with the number 150\n",
        "import pandas as pd\n",
        "\n",
        "data=pd.read_csv('/content/drive/My Drive/Data Analyst/Pandas/badData.csv')\n",
        "data.fillna(150, inplace=True)\n",
        "print(data)"
      ],
      "metadata": {
        "colab": {
          "base_uri": "https://localhost:8080/"
        },
        "id": "ln04z4wdWImU",
        "outputId": "2aa17bcc-c5cb-45d8-a702-3d2619e005be"
      },
      "execution_count": 17,
      "outputs": [
        {
          "output_type": "stream",
          "name": "stdout",
          "text": [
            "    Duration          Date  Pulse  Maxpulse  Calories\n",
            "0         60  '2020/12/01'    110       130     409.1\n",
            "1         60  '2020/12/02'    117       145     479.0\n",
            "2         60  '2020/12/03'    103       135     340.0\n",
            "3         45  '2020/12/04'    109       175     282.4\n",
            "4         45  '2020/12/05'    117       148     406.0\n",
            "5         60  '2020/12/06'    102       127     300.0\n",
            "6         60  '2020/12/07'    110       136     374.0\n",
            "7        450  '2020/12/08'    104       134     253.3\n",
            "8         30  '2020/12/09'    109       133     195.1\n",
            "9         60  '2020/12/10'     98       124     269.0\n",
            "10        60  '2020/12/11'    103       147     329.3\n",
            "11        60  '2020/12/12'    100       120     250.7\n",
            "12        60  '2020/12/12'    100       120     250.7\n",
            "13        60  '2020/12/13'    106       128     345.3\n",
            "14        60  '2020/12/14'    104       132     379.3\n",
            "15        60  '2020/12/15'     98       123     275.0\n",
            "16        60  '2020/12/16'     98       120     215.2\n",
            "17        60  '2020/12/17'    100       120     300.0\n",
            "18        45  '2020/12/18'     90       112     150.0\n",
            "19        60  '2020/12/19'    103       123     323.0\n",
            "20        45  '2020/12/20'     97       125     243.0\n",
            "21        60  '2020/12/21'    108       131     364.2\n",
            "22        45           150    100       119     282.0\n",
            "23        60  '2020/12/23'    130       101     300.0\n",
            "24        45  '2020/12/24'    105       132     246.0\n",
            "25        60  '2020/12/25'    102       126     334.5\n",
            "26        60      20201226    100       120     250.0\n",
            "27        60  '2020/12/27'     92       118     241.0\n",
            "28        60  '2020/12/28'    103       132     150.0\n",
            "29        60  '2020/12/29'    100       132     280.0\n",
            "30        60  '2020/12/30'    102       129     380.3\n",
            "31        60  '2020/12/31'     92       115     243.0\n"
          ]
        }
      ]
    },
    {
      "cell_type": "markdown",
      "source": [
        "**Replace only for specified columns**"
      ],
      "metadata": {
        "id": "4K00XUvAXJbC"
      }
    },
    {
      "cell_type": "code",
      "source": [
        "# return null values in the Calories columns with the number 160\n",
        "import pandas as pd\n",
        "\n",
        "data=pd.read_csv('/content/drive/My Drive/Data Analyst/Pandas/badData.csv')\n",
        "data.fillna({'Calories': 160}, inplace=True)\n",
        "\n",
        "print(data)"
      ],
      "metadata": {
        "colab": {
          "base_uri": "https://localhost:8080/"
        },
        "id": "ub8TnWFbVn-p",
        "outputId": "7af7f0cc-af66-4f5d-d4ac-f59de3d04907"
      },
      "execution_count": 19,
      "outputs": [
        {
          "output_type": "stream",
          "name": "stdout",
          "text": [
            "    Duration          Date  Pulse  Maxpulse  Calories\n",
            "0         60  '2020/12/01'    110       130     409.1\n",
            "1         60  '2020/12/02'    117       145     479.0\n",
            "2         60  '2020/12/03'    103       135     340.0\n",
            "3         45  '2020/12/04'    109       175     282.4\n",
            "4         45  '2020/12/05'    117       148     406.0\n",
            "5         60  '2020/12/06'    102       127     300.0\n",
            "6         60  '2020/12/07'    110       136     374.0\n",
            "7        450  '2020/12/08'    104       134     253.3\n",
            "8         30  '2020/12/09'    109       133     195.1\n",
            "9         60  '2020/12/10'     98       124     269.0\n",
            "10        60  '2020/12/11'    103       147     329.3\n",
            "11        60  '2020/12/12'    100       120     250.7\n",
            "12        60  '2020/12/12'    100       120     250.7\n",
            "13        60  '2020/12/13'    106       128     345.3\n",
            "14        60  '2020/12/14'    104       132     379.3\n",
            "15        60  '2020/12/15'     98       123     275.0\n",
            "16        60  '2020/12/16'     98       120     215.2\n",
            "17        60  '2020/12/17'    100       120     300.0\n",
            "18        45  '2020/12/18'     90       112     160.0\n",
            "19        60  '2020/12/19'    103       123     323.0\n",
            "20        45  '2020/12/20'     97       125     243.0\n",
            "21        60  '2020/12/21'    108       131     364.2\n",
            "22        45           NaN    100       119     282.0\n",
            "23        60  '2020/12/23'    130       101     300.0\n",
            "24        45  '2020/12/24'    105       132     246.0\n",
            "25        60  '2020/12/25'    102       126     334.5\n",
            "26        60      20201226    100       120     250.0\n",
            "27        60  '2020/12/27'     92       118     241.0\n",
            "28        60  '2020/12/28'    103       132     160.0\n",
            "29        60  '2020/12/29'    100       132     280.0\n",
            "30        60  '2020/12/30'    102       129     380.3\n",
            "31        60  '2020/12/31'     92       115     243.0\n"
          ]
        }
      ]
    },
    {
      "cell_type": "markdown",
      "source": [
        "**Replace using mean, median or mode value**"
      ],
      "metadata": {
        "id": "2WwXPNxWXw3R"
      }
    },
    {
      "cell_type": "markdown",
      "source": [
        "**Mean** : the average value (the sum of all values divided by number of values)\n",
        "\n",
        "**Median** : the value in the middle ,after you have sorted all values ascending\n",
        "\n",
        "**Mode** : the value that appears most frequently"
      ],
      "metadata": {
        "id": "Sevu8ZvgY8FC"
      }
    },
    {
      "cell_type": "code",
      "source": [
        "# replace the empty cells by mean value\n",
        "import pandas as pd\n",
        "\n",
        "data=pd.read_csv('/content/drive/My Drive/Data Analyst/Pandas/badData.csv')\n",
        "\n",
        "mean_value=data['Calories'].mean()\n",
        "print(f\"The mean value is {mean_value}\\n\\n\")\n",
        "\n",
        "data.fillna({'Calories': mean_value}, inplace=True)\n",
        "\n",
        "print(data)"
      ],
      "metadata": {
        "colab": {
          "base_uri": "https://localhost:8080/"
        },
        "id": "AgiMP3tRX1zJ",
        "outputId": "b26e064b-70c1-4d81-87ac-8bc09c0581c2"
      },
      "execution_count": 22,
      "outputs": [
        {
          "output_type": "stream",
          "name": "stdout",
          "text": [
            "The mean value is 304.68\n",
            "\n",
            "\n",
            "    Duration          Date  Pulse  Maxpulse  Calories\n",
            "0         60  '2020/12/01'    110       130    409.10\n",
            "1         60  '2020/12/02'    117       145    479.00\n",
            "2         60  '2020/12/03'    103       135    340.00\n",
            "3         45  '2020/12/04'    109       175    282.40\n",
            "4         45  '2020/12/05'    117       148    406.00\n",
            "5         60  '2020/12/06'    102       127    300.00\n",
            "6         60  '2020/12/07'    110       136    374.00\n",
            "7        450  '2020/12/08'    104       134    253.30\n",
            "8         30  '2020/12/09'    109       133    195.10\n",
            "9         60  '2020/12/10'     98       124    269.00\n",
            "10        60  '2020/12/11'    103       147    329.30\n",
            "11        60  '2020/12/12'    100       120    250.70\n",
            "12        60  '2020/12/12'    100       120    250.70\n",
            "13        60  '2020/12/13'    106       128    345.30\n",
            "14        60  '2020/12/14'    104       132    379.30\n",
            "15        60  '2020/12/15'     98       123    275.00\n",
            "16        60  '2020/12/16'     98       120    215.20\n",
            "17        60  '2020/12/17'    100       120    300.00\n",
            "18        45  '2020/12/18'     90       112    304.68\n",
            "19        60  '2020/12/19'    103       123    323.00\n",
            "20        45  '2020/12/20'     97       125    243.00\n",
            "21        60  '2020/12/21'    108       131    364.20\n",
            "22        45           NaN    100       119    282.00\n",
            "23        60  '2020/12/23'    130       101    300.00\n",
            "24        45  '2020/12/24'    105       132    246.00\n",
            "25        60  '2020/12/25'    102       126    334.50\n",
            "26        60      20201226    100       120    250.00\n",
            "27        60  '2020/12/27'     92       118    241.00\n",
            "28        60  '2020/12/28'    103       132    304.68\n",
            "29        60  '2020/12/29'    100       132    280.00\n",
            "30        60  '2020/12/30'    102       129    380.30\n",
            "31        60  '2020/12/31'     92       115    243.00\n"
          ]
        }
      ]
    },
    {
      "cell_type": "code",
      "source": [
        "# replace the empty cells by median value\n",
        "import pandas as pd\n",
        "\n",
        "data=pd.read_csv('/content/drive/My Drive/Data Analyst/Pandas/badData.csv')\n",
        "\n",
        "median_value=data['Calories'].median()\n",
        "print(f\"The median value is {median_value}\\n\\n\")\n",
        "\n",
        "data.fillna({'Calories': median_value}, inplace=True)\n",
        "\n",
        "print(data)"
      ],
      "metadata": {
        "colab": {
          "base_uri": "https://localhost:8080/"
        },
        "id": "ViwdXCqTYgbQ",
        "outputId": "27b27795-dbb1-4406-a535-1e42b4b1abd6"
      },
      "execution_count": 23,
      "outputs": [
        {
          "output_type": "stream",
          "name": "stdout",
          "text": [
            "The median value is 291.2\n",
            "\n",
            "\n",
            "    Duration          Date  Pulse  Maxpulse  Calories\n",
            "0         60  '2020/12/01'    110       130     409.1\n",
            "1         60  '2020/12/02'    117       145     479.0\n",
            "2         60  '2020/12/03'    103       135     340.0\n",
            "3         45  '2020/12/04'    109       175     282.4\n",
            "4         45  '2020/12/05'    117       148     406.0\n",
            "5         60  '2020/12/06'    102       127     300.0\n",
            "6         60  '2020/12/07'    110       136     374.0\n",
            "7        450  '2020/12/08'    104       134     253.3\n",
            "8         30  '2020/12/09'    109       133     195.1\n",
            "9         60  '2020/12/10'     98       124     269.0\n",
            "10        60  '2020/12/11'    103       147     329.3\n",
            "11        60  '2020/12/12'    100       120     250.7\n",
            "12        60  '2020/12/12'    100       120     250.7\n",
            "13        60  '2020/12/13'    106       128     345.3\n",
            "14        60  '2020/12/14'    104       132     379.3\n",
            "15        60  '2020/12/15'     98       123     275.0\n",
            "16        60  '2020/12/16'     98       120     215.2\n",
            "17        60  '2020/12/17'    100       120     300.0\n",
            "18        45  '2020/12/18'     90       112     291.2\n",
            "19        60  '2020/12/19'    103       123     323.0\n",
            "20        45  '2020/12/20'     97       125     243.0\n",
            "21        60  '2020/12/21'    108       131     364.2\n",
            "22        45           NaN    100       119     282.0\n",
            "23        60  '2020/12/23'    130       101     300.0\n",
            "24        45  '2020/12/24'    105       132     246.0\n",
            "25        60  '2020/12/25'    102       126     334.5\n",
            "26        60      20201226    100       120     250.0\n",
            "27        60  '2020/12/27'     92       118     241.0\n",
            "28        60  '2020/12/28'    103       132     291.2\n",
            "29        60  '2020/12/29'    100       132     280.0\n",
            "30        60  '2020/12/30'    102       129     380.3\n",
            "31        60  '2020/12/31'     92       115     243.0\n"
          ]
        }
      ]
    },
    {
      "cell_type": "code",
      "source": [
        "# replace the empty cells by mode value\n",
        "import pandas as pd\n",
        "\n",
        "data=pd.read_csv('/content/drive/My Drive/Data Analyst/Pandas/badData.csv')\n",
        "\n",
        "mode_value=data['Calories'].mode()[0]\n",
        "print(f\"The mode value is {mean_value}\\n\\n\")\n",
        "\n",
        "data.fillna({'Calories': mode_value}, inplace=True)\n",
        "\n",
        "print(data)"
      ],
      "metadata": {
        "colab": {
          "base_uri": "https://localhost:8080/"
        },
        "id": "sSLa5uBdYsv5",
        "outputId": "60dc479a-81a1-4390-abd1-a20f8a98a673"
      },
      "execution_count": 24,
      "outputs": [
        {
          "output_type": "stream",
          "name": "stdout",
          "text": [
            "The mode value is 304.68\n",
            "\n",
            "\n",
            "    Duration          Date  Pulse  Maxpulse  Calories\n",
            "0         60  '2020/12/01'    110       130     409.1\n",
            "1         60  '2020/12/02'    117       145     479.0\n",
            "2         60  '2020/12/03'    103       135     340.0\n",
            "3         45  '2020/12/04'    109       175     282.4\n",
            "4         45  '2020/12/05'    117       148     406.0\n",
            "5         60  '2020/12/06'    102       127     300.0\n",
            "6         60  '2020/12/07'    110       136     374.0\n",
            "7        450  '2020/12/08'    104       134     253.3\n",
            "8         30  '2020/12/09'    109       133     195.1\n",
            "9         60  '2020/12/10'     98       124     269.0\n",
            "10        60  '2020/12/11'    103       147     329.3\n",
            "11        60  '2020/12/12'    100       120     250.7\n",
            "12        60  '2020/12/12'    100       120     250.7\n",
            "13        60  '2020/12/13'    106       128     345.3\n",
            "14        60  '2020/12/14'    104       132     379.3\n",
            "15        60  '2020/12/15'     98       123     275.0\n",
            "16        60  '2020/12/16'     98       120     215.2\n",
            "17        60  '2020/12/17'    100       120     300.0\n",
            "18        45  '2020/12/18'     90       112     300.0\n",
            "19        60  '2020/12/19'    103       123     323.0\n",
            "20        45  '2020/12/20'     97       125     243.0\n",
            "21        60  '2020/12/21'    108       131     364.2\n",
            "22        45           NaN    100       119     282.0\n",
            "23        60  '2020/12/23'    130       101     300.0\n",
            "24        45  '2020/12/24'    105       132     246.0\n",
            "25        60  '2020/12/25'    102       126     334.5\n",
            "26        60      20201226    100       120     250.0\n",
            "27        60  '2020/12/27'     92       118     241.0\n",
            "28        60  '2020/12/28'    103       132     300.0\n",
            "29        60  '2020/12/29'    100       132     280.0\n",
            "30        60  '2020/12/30'    102       129     380.3\n",
            "31        60  '2020/12/31'     92       115     243.0\n"
          ]
        }
      ]
    },
    {
      "cell_type": "markdown",
      "source": [
        "**Data in wrong format**\n",
        "\n",
        "---\n",
        "\n"
      ],
      "metadata": {
        "id": "YBUIeDxEZkOR"
      }
    },
    {
      "cell_type": "markdown",
      "source": [
        "Cells with data of wrong format can make it difficult or impossible to analyse data.\n",
        "\n",
        "**It has two options:**\n",
        "\n",
        "Remove the rows\n",
        "\n",
        "convert all cells in the columns into the same format"
      ],
      "metadata": {
        "id": "2iCfO4-dZmfs"
      }
    },
    {
      "cell_type": "markdown",
      "source": [
        "**Remove the rows**"
      ],
      "metadata": {
        "id": "wXvAY_6ia09B"
      }
    },
    {
      "cell_type": "code",
      "source": [
        "# remove the rows with null values in the date column\n",
        "import pandas as pd\n",
        "\n",
        "data=pd.read_csv('/content/drive/My Drive/Data Analyst/Pandas/badData.csv')\n",
        "data.dropna(subset=['Date'], inplace=True)\n",
        "print(data)"
      ],
      "metadata": {
        "colab": {
          "base_uri": "https://localhost:8080/"
        },
        "id": "NCi2yNXpa4Gp",
        "outputId": "b2cad192-b870-4529-9978-012b2d08d303"
      },
      "execution_count": 27,
      "outputs": [
        {
          "output_type": "stream",
          "name": "stdout",
          "text": [
            "    Duration          Date  Pulse  Maxpulse  Calories\n",
            "0         60  '2020/12/01'    110       130     409.1\n",
            "1         60  '2020/12/02'    117       145     479.0\n",
            "2         60  '2020/12/03'    103       135     340.0\n",
            "3         45  '2020/12/04'    109       175     282.4\n",
            "4         45  '2020/12/05'    117       148     406.0\n",
            "5         60  '2020/12/06'    102       127     300.0\n",
            "6         60  '2020/12/07'    110       136     374.0\n",
            "7        450  '2020/12/08'    104       134     253.3\n",
            "8         30  '2020/12/09'    109       133     195.1\n",
            "9         60  '2020/12/10'     98       124     269.0\n",
            "10        60  '2020/12/11'    103       147     329.3\n",
            "11        60  '2020/12/12'    100       120     250.7\n",
            "12        60  '2020/12/12'    100       120     250.7\n",
            "13        60  '2020/12/13'    106       128     345.3\n",
            "14        60  '2020/12/14'    104       132     379.3\n",
            "15        60  '2020/12/15'     98       123     275.0\n",
            "16        60  '2020/12/16'     98       120     215.2\n",
            "17        60  '2020/12/17'    100       120     300.0\n",
            "18        45  '2020/12/18'     90       112       NaN\n",
            "19        60  '2020/12/19'    103       123     323.0\n",
            "20        45  '2020/12/20'     97       125     243.0\n",
            "21        60  '2020/12/21'    108       131     364.2\n",
            "23        60  '2020/12/23'    130       101     300.0\n",
            "24        45  '2020/12/24'    105       132     246.0\n",
            "25        60  '2020/12/25'    102       126     334.5\n",
            "26        60      20201226    100       120     250.0\n",
            "27        60  '2020/12/27'     92       118     241.0\n",
            "28        60  '2020/12/28'    103       132       NaN\n",
            "29        60  '2020/12/29'    100       132     280.0\n",
            "30        60  '2020/12/30'    102       129     380.3\n",
            "31        60  '2020/12/31'     92       115     243.0\n"
          ]
        }
      ]
    },
    {
      "cell_type": "markdown",
      "source": [
        "**convert all cells in the columns into the same format**"
      ],
      "metadata": {
        "id": "CdIrqn1Zbpzk"
      }
    },
    {
      "cell_type": "code",
      "source": [
        "# convert into a correct format\n",
        "import pandas as pd\n",
        "\n",
        "data=pd.read_csv('/content/drive/My Drive/Data Analyst/Pandas/badData.csv')\n",
        "\n",
        "data['Date']=pd.to_datetime(data['Date'], format='mixed')\n",
        "\n",
        "print(data)"
      ],
      "metadata": {
        "colab": {
          "base_uri": "https://localhost:8080/"
        },
        "id": "RquFsueQbq6w",
        "outputId": "0c846948-bac2-4171-9287-6f8bedab8dfd"
      },
      "execution_count": 28,
      "outputs": [
        {
          "output_type": "stream",
          "name": "stdout",
          "text": [
            "    Duration       Date  Pulse  Maxpulse  Calories\n",
            "0         60 2020-12-01    110       130     409.1\n",
            "1         60 2020-12-02    117       145     479.0\n",
            "2         60 2020-12-03    103       135     340.0\n",
            "3         45 2020-12-04    109       175     282.4\n",
            "4         45 2020-12-05    117       148     406.0\n",
            "5         60 2020-12-06    102       127     300.0\n",
            "6         60 2020-12-07    110       136     374.0\n",
            "7        450 2020-12-08    104       134     253.3\n",
            "8         30 2020-12-09    109       133     195.1\n",
            "9         60 2020-12-10     98       124     269.0\n",
            "10        60 2020-12-11    103       147     329.3\n",
            "11        60 2020-12-12    100       120     250.7\n",
            "12        60 2020-12-12    100       120     250.7\n",
            "13        60 2020-12-13    106       128     345.3\n",
            "14        60 2020-12-14    104       132     379.3\n",
            "15        60 2020-12-15     98       123     275.0\n",
            "16        60 2020-12-16     98       120     215.2\n",
            "17        60 2020-12-17    100       120     300.0\n",
            "18        45 2020-12-18     90       112       NaN\n",
            "19        60 2020-12-19    103       123     323.0\n",
            "20        45 2020-12-20     97       125     243.0\n",
            "21        60 2020-12-21    108       131     364.2\n",
            "22        45        NaT    100       119     282.0\n",
            "23        60 2020-12-23    130       101     300.0\n",
            "24        45 2020-12-24    105       132     246.0\n",
            "25        60 2020-12-25    102       126     334.5\n",
            "26        60 2020-12-26    100       120     250.0\n",
            "27        60 2020-12-27     92       118     241.0\n",
            "28        60 2020-12-28    103       132       NaN\n",
            "29        60 2020-12-29    100       132     280.0\n",
            "30        60 2020-12-30    102       129     380.3\n",
            "31        60 2020-12-31     92       115     243.0\n"
          ]
        }
      ]
    },
    {
      "cell_type": "markdown",
      "source": [
        "**Wrong Data**\n",
        "\n",
        "---\n",
        "\n"
      ],
      "metadata": {
        "id": "b7eZzKaRcVKr"
      }
    },
    {
      "cell_type": "markdown",
      "source": [
        "\"Wrong data\" does not have to be \"empty cells\" or \"wrong format\", it can just be wrong, like if someone registered \"199\" instead of \"1.99\".\n",
        "\n",
        "**It has two ways:**\n",
        "\n",
        "Replacing values\n",
        "\n",
        "Remove the rows"
      ],
      "metadata": {
        "id": "l0J4wrYCcZWx"
      }
    },
    {
      "cell_type": "markdown",
      "source": [
        "**Replacing values**"
      ],
      "metadata": {
        "id": "q5K7BwCqcwg_"
      }
    },
    {
      "cell_type": "code",
      "source": [
        "# replace the unexpected values in a specific row\n",
        "import pandas as pd\n",
        "\n",
        "data=pd.read_csv('/content/drive/My Drive/Data Analyst/Pandas/badData.csv')\n",
        "\n",
        "data.loc[7,'Duration'] = 45\n",
        "\n",
        "print(data.to_string())"
      ],
      "metadata": {
        "colab": {
          "base_uri": "https://localhost:8080/"
        },
        "id": "oY1CRlxRdBhn",
        "outputId": "0cad1534-f9b9-4033-a820-537d8c69d14c"
      },
      "execution_count": 30,
      "outputs": [
        {
          "output_type": "stream",
          "name": "stdout",
          "text": [
            "    Duration          Date  Pulse  Maxpulse  Calories\n",
            "0         60  '2020/12/01'    110       130     409.1\n",
            "1         60  '2020/12/02'    117       145     479.0\n",
            "2         60  '2020/12/03'    103       135     340.0\n",
            "3         45  '2020/12/04'    109       175     282.4\n",
            "4         45  '2020/12/05'    117       148     406.0\n",
            "5         60  '2020/12/06'    102       127     300.0\n",
            "6         60  '2020/12/07'    110       136     374.0\n",
            "7         45  '2020/12/08'    104       134     253.3\n",
            "8         30  '2020/12/09'    109       133     195.1\n",
            "9         60  '2020/12/10'     98       124     269.0\n",
            "10        60  '2020/12/11'    103       147     329.3\n",
            "11        60  '2020/12/12'    100       120     250.7\n",
            "12        60  '2020/12/12'    100       120     250.7\n",
            "13        60  '2020/12/13'    106       128     345.3\n",
            "14        60  '2020/12/14'    104       132     379.3\n",
            "15        60  '2020/12/15'     98       123     275.0\n",
            "16        60  '2020/12/16'     98       120     215.2\n",
            "17        60  '2020/12/17'    100       120     300.0\n",
            "18        45  '2020/12/18'     90       112       NaN\n",
            "19        60  '2020/12/19'    103       123     323.0\n",
            "20        45  '2020/12/20'     97       125     243.0\n",
            "21        60  '2020/12/21'    108       131     364.2\n",
            "22        45           NaN    100       119     282.0\n",
            "23        60  '2020/12/23'    130       101     300.0\n",
            "24        45  '2020/12/24'    105       132     246.0\n",
            "25        60  '2020/12/25'    102       126     334.5\n",
            "26        60      20201226    100       120     250.0\n",
            "27        60  '2020/12/27'     92       118     241.0\n",
            "28        60  '2020/12/28'    103       132       NaN\n",
            "29        60  '2020/12/29'    100       132     280.0\n",
            "30        60  '2020/12/30'    102       129     380.3\n",
            "31        60  '2020/12/31'     92       115     243.0\n"
          ]
        }
      ]
    },
    {
      "cell_type": "code",
      "source": [
        "# replace the unexpected values\n",
        "import pandas as pd\n",
        "\n",
        "data=pd.read_csv('/content/drive/My Drive/Data Analyst/Pandas/badData.csv')\n",
        "\n",
        "for i in data.index:\n",
        "  if data.loc[i, \"Duration\"] > 120:\n",
        "    data.loc[i, \"Duration\"] = 120\n",
        "\n",
        "print(data)"
      ],
      "metadata": {
        "colab": {
          "base_uri": "https://localhost:8080/"
        },
        "id": "EhvbhC1hczIx",
        "outputId": "bab3cceb-fca8-4865-dc51-dcb24c10f45f"
      },
      "execution_count": 34,
      "outputs": [
        {
          "output_type": "stream",
          "name": "stdout",
          "text": [
            "    Duration          Date  Pulse  Maxpulse  Calories\n",
            "0         60  '2020/12/01'    110       130     409.1\n",
            "1         60  '2020/12/02'    117       145     479.0\n",
            "2         60  '2020/12/03'    103       135     340.0\n",
            "3         45  '2020/12/04'    109       175     282.4\n",
            "4         45  '2020/12/05'    117       148     406.0\n",
            "5         60  '2020/12/06'    102       127     300.0\n",
            "6         60  '2020/12/07'    110       136     374.0\n",
            "7        120  '2020/12/08'    104       134     253.3\n",
            "8         30  '2020/12/09'    109       133     195.1\n",
            "9         60  '2020/12/10'     98       124     269.0\n",
            "10        60  '2020/12/11'    103       147     329.3\n",
            "11        60  '2020/12/12'    100       120     250.7\n",
            "12        60  '2020/12/12'    100       120     250.7\n",
            "13        60  '2020/12/13'    106       128     345.3\n",
            "14        60  '2020/12/14'    104       132     379.3\n",
            "15        60  '2020/12/15'     98       123     275.0\n",
            "16        60  '2020/12/16'     98       120     215.2\n",
            "17        60  '2020/12/17'    100       120     300.0\n",
            "18        45  '2020/12/18'     90       112       NaN\n",
            "19        60  '2020/12/19'    103       123     323.0\n",
            "20        45  '2020/12/20'     97       125     243.0\n",
            "21        60  '2020/12/21'    108       131     364.2\n",
            "22        45           NaN    100       119     282.0\n",
            "23        60  '2020/12/23'    130       101     300.0\n",
            "24        45  '2020/12/24'    105       132     246.0\n",
            "25        60  '2020/12/25'    102       126     334.5\n",
            "26        60      20201226    100       120     250.0\n",
            "27        60  '2020/12/27'     92       118     241.0\n",
            "28        60  '2020/12/28'    103       132       NaN\n",
            "29        60  '2020/12/29'    100       132     280.0\n",
            "30        60  '2020/12/30'    102       129     380.3\n",
            "31        60  '2020/12/31'     92       115     243.0\n"
          ]
        }
      ]
    },
    {
      "cell_type": "markdown",
      "source": [
        "**Remove the rows**"
      ],
      "metadata": {
        "id": "sQ4qmJUldkHK"
      }
    },
    {
      "cell_type": "code",
      "source": [
        "# delete the rows where duration is higher than 120\n",
        "import pandas as pd\n",
        "\n",
        "data=pd.read_csv('/content/drive/My Drive/Data Analyst/Pandas/badData.csv')\n",
        "\n",
        "for i in data.index:\n",
        "  if data.loc[i, \"Duration\"] > 120:\n",
        "    data.drop(i, inplace = True)\n",
        "\n",
        "print(data)"
      ],
      "metadata": {
        "colab": {
          "base_uri": "https://localhost:8080/"
        },
        "id": "qhXV3sOSdqLh",
        "outputId": "b53c6364-554d-4f9c-91ec-6977f6aeb075"
      },
      "execution_count": 33,
      "outputs": [
        {
          "output_type": "stream",
          "name": "stdout",
          "text": [
            "    Duration          Date  Pulse  Maxpulse  Calories\n",
            "0         60  '2020/12/01'    110       130     409.1\n",
            "1         60  '2020/12/02'    117       145     479.0\n",
            "2         60  '2020/12/03'    103       135     340.0\n",
            "3         45  '2020/12/04'    109       175     282.4\n",
            "4         45  '2020/12/05'    117       148     406.0\n",
            "5         60  '2020/12/06'    102       127     300.0\n",
            "6         60  '2020/12/07'    110       136     374.0\n",
            "8         30  '2020/12/09'    109       133     195.1\n",
            "9         60  '2020/12/10'     98       124     269.0\n",
            "10        60  '2020/12/11'    103       147     329.3\n",
            "11        60  '2020/12/12'    100       120     250.7\n",
            "12        60  '2020/12/12'    100       120     250.7\n",
            "13        60  '2020/12/13'    106       128     345.3\n",
            "14        60  '2020/12/14'    104       132     379.3\n",
            "15        60  '2020/12/15'     98       123     275.0\n",
            "16        60  '2020/12/16'     98       120     215.2\n",
            "17        60  '2020/12/17'    100       120     300.0\n",
            "18        45  '2020/12/18'     90       112       NaN\n",
            "19        60  '2020/12/19'    103       123     323.0\n",
            "20        45  '2020/12/20'     97       125     243.0\n",
            "21        60  '2020/12/21'    108       131     364.2\n",
            "22        45           NaN    100       119     282.0\n",
            "23        60  '2020/12/23'    130       101     300.0\n",
            "24        45  '2020/12/24'    105       132     246.0\n",
            "25        60  '2020/12/25'    102       126     334.5\n",
            "26        60      20201226    100       120     250.0\n",
            "27        60  '2020/12/27'     92       118     241.0\n",
            "28        60  '2020/12/28'    103       132       NaN\n",
            "29        60  '2020/12/29'    100       132     280.0\n",
            "30        60  '2020/12/30'    102       129     380.3\n",
            "31        60  '2020/12/31'     92       115     243.0\n"
          ]
        }
      ]
    },
    {
      "cell_type": "markdown",
      "source": [
        "**Removing Duplicates**\n",
        "\n",
        "---\n",
        "\n"
      ],
      "metadata": {
        "id": "nxEMcrBFeNv8"
      }
    },
    {
      "cell_type": "markdown",
      "source": [
        "Duplicate rows are rows that have been registered more than one time.\n",
        "\n",
        "The **duplicated()** method returns a Boolean values for each row."
      ],
      "metadata": {
        "id": "sroEoFX_eRIg"
      }
    },
    {
      "cell_type": "code",
      "source": [
        "# return boolean\n",
        "import pandas as pd\n",
        "\n",
        "data=pd.read_csv('/content/drive/My Drive/Data Analyst/Pandas/badData.csv')\n",
        "\n",
        "print(data.duplicated())"
      ],
      "metadata": {
        "colab": {
          "base_uri": "https://localhost:8080/"
        },
        "id": "W16C-oI5eZZB",
        "outputId": "1d2dddd6-2487-42bf-9b8c-66dc07e5a473"
      },
      "execution_count": 36,
      "outputs": [
        {
          "output_type": "stream",
          "name": "stdout",
          "text": [
            "0     False\n",
            "1     False\n",
            "2     False\n",
            "3     False\n",
            "4     False\n",
            "5     False\n",
            "6     False\n",
            "7     False\n",
            "8     False\n",
            "9     False\n",
            "10    False\n",
            "11    False\n",
            "12     True\n",
            "13    False\n",
            "14    False\n",
            "15    False\n",
            "16    False\n",
            "17    False\n",
            "18    False\n",
            "19    False\n",
            "20    False\n",
            "21    False\n",
            "22    False\n",
            "23    False\n",
            "24    False\n",
            "25    False\n",
            "26    False\n",
            "27    False\n",
            "28    False\n",
            "29    False\n",
            "30    False\n",
            "31    False\n",
            "dtype: bool\n"
          ]
        }
      ]
    },
    {
      "cell_type": "code",
      "source": [
        "# remove all duplicates\n",
        "import pandas as pd\n",
        "\n",
        "data=pd.read_csv('/content/drive/My Drive/Data Analyst/Pandas/badData.csv')\n",
        "\n",
        "data.drop_duplicates(inplace = True)\n",
        "\n",
        "print(data)"
      ],
      "metadata": {
        "colab": {
          "base_uri": "https://localhost:8080/"
        },
        "id": "GXuWQLxhegC1",
        "outputId": "71169f52-1b55-4fc3-f924-dd109a7e14fd"
      },
      "execution_count": 37,
      "outputs": [
        {
          "output_type": "stream",
          "name": "stdout",
          "text": [
            "    Duration          Date  Pulse  Maxpulse  Calories\n",
            "0         60  '2020/12/01'    110       130     409.1\n",
            "1         60  '2020/12/02'    117       145     479.0\n",
            "2         60  '2020/12/03'    103       135     340.0\n",
            "3         45  '2020/12/04'    109       175     282.4\n",
            "4         45  '2020/12/05'    117       148     406.0\n",
            "5         60  '2020/12/06'    102       127     300.0\n",
            "6         60  '2020/12/07'    110       136     374.0\n",
            "7        450  '2020/12/08'    104       134     253.3\n",
            "8         30  '2020/12/09'    109       133     195.1\n",
            "9         60  '2020/12/10'     98       124     269.0\n",
            "10        60  '2020/12/11'    103       147     329.3\n",
            "11        60  '2020/12/12'    100       120     250.7\n",
            "13        60  '2020/12/13'    106       128     345.3\n",
            "14        60  '2020/12/14'    104       132     379.3\n",
            "15        60  '2020/12/15'     98       123     275.0\n",
            "16        60  '2020/12/16'     98       120     215.2\n",
            "17        60  '2020/12/17'    100       120     300.0\n",
            "18        45  '2020/12/18'     90       112       NaN\n",
            "19        60  '2020/12/19'    103       123     323.0\n",
            "20        45  '2020/12/20'     97       125     243.0\n",
            "21        60  '2020/12/21'    108       131     364.2\n",
            "22        45           NaN    100       119     282.0\n",
            "23        60  '2020/12/23'    130       101     300.0\n",
            "24        45  '2020/12/24'    105       132     246.0\n",
            "25        60  '2020/12/25'    102       126     334.5\n",
            "26        60      20201226    100       120     250.0\n",
            "27        60  '2020/12/27'     92       118     241.0\n",
            "28        60  '2020/12/28'    103       132       NaN\n",
            "29        60  '2020/12/29'    100       132     280.0\n",
            "30        60  '2020/12/30'    102       129     380.3\n",
            "31        60  '2020/12/31'     92       115     243.0\n"
          ]
        }
      ]
    }
  ]
}